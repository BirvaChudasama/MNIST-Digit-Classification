{
  "nbformat": 4,
  "nbformat_minor": 0,
  "metadata": {
    "colab": {
      "provenance": []
    },
    "kernelspec": {
      "name": "python3",
      "display_name": "Python 3"
    },
    "language_info": {
      "name": "python"
    }
  },
  "cells": [
    {
      "cell_type": "code",
      "execution_count": 4,
      "metadata": {
        "id": "AxAnduzzyLRk"
      },
      "outputs": [],
      "source": [
        "import gzip, struct, numpy as np, pandas as pd\n",
        "from sklearn.model_selection import train_test_split, cross_val_score\n",
        "from sklearn.preprocessing import StandardScaler\n",
        "from sklearn.decomposition import PCA\n",
        "from sklearn.ensemble import RandomForestClassifier\n",
        "from sklearn.metrics import classification_report, f1_score, confusion_matrix\n",
        "import matplotlib.pyplot as plt\n",
        "import seaborn as sns\n"
      ]
    },
    {
      "cell_type": "markdown",
      "source": [
        "### 1 – Helper function to read IDX format"
      ],
      "metadata": {
        "id": "kDEmOOB52dzS"
      }
    },
    {
      "cell_type": "code",
      "source": [
        "import struct, numpy as np\n",
        "\n",
        "def load_idx(path: str) -> np.ndarray:\n",
        "    \"\"\"Load an idx{1,3}-ubyte file (already un-gzipped).\"\"\"\n",
        "    with open(path, 'rb') as f:\n",
        "        _, _, dims = struct.unpack('>HBB', f.read(4))\n",
        "        shape = tuple(struct.unpack('>I', f.read(4))[0] for _ in range(dims))\n",
        "        return np.frombuffer(f.read(), dtype=np.uint8).reshape(shape)"
      ],
      "metadata": {
        "id": "oNGs34VyylDO"
      },
      "execution_count": 5,
      "outputs": []
    },
    {
      "cell_type": "markdown",
      "source": [
        "### 2 – Load the data"
      ],
      "metadata": {
        "id": "ZQWivqiA2hoE"
      }
    },
    {
      "cell_type": "code",
      "source": [
        "#  Read images & labels\n",
        "X_train = load_idx('/content/train-images.idx3-ubyte')\n",
        "y_train = load_idx('/content/train-labels.idx1-ubyte')\n",
        "X_test  = load_idx('/content/t10k-images.idx3-ubyte')\n",
        "y_test  = load_idx('/content/t10k-labels.idx1-ubyte')\n",
        "\n",
        "print(\"Shapes ➜\", X_train.shape, y_train.shape, X_test.shape, y_test.shape)\n"
      ],
      "metadata": {
        "colab": {
          "base_uri": "https://localhost:8080/"
        },
        "id": "RXGAEIvM2amG",
        "outputId": "77571a09-9e7a-480f-e49a-146446f9ed34"
      },
      "execution_count": 6,
      "outputs": [
        {
          "output_type": "stream",
          "name": "stdout",
          "text": [
            "Shapes ➜ (60000, 28, 28) (60000,) (10000, 28, 28) (10000,)\n"
          ]
        }
      ]
    },
    {
      "cell_type": "markdown",
      "source": [
        "### 3 – Flatten images and min-max scale to 0-1"
      ],
      "metadata": {
        "id": "vqiJukqm3R1Y"
      }
    },
    {
      "cell_type": "code",
      "source": [
        "\n",
        "from sklearn.preprocessing import MinMaxScaler\n",
        "\n",
        "# Reshape: (n_samples, 28, 28)  → (n_samples, 784)\n",
        "X_train_flat = X_train.reshape(-1, 28*28).astype('float32')\n",
        "X_test_flat  = X_test.reshape(-1, 28*28).astype('float32')\n",
        "\n",
        "scaler = MinMaxScaler()\n",
        "X_train_scaled = scaler.fit_transform(X_train_flat)\n",
        "X_test_scaled  = scaler.transform(X_test_flat)\n",
        "\n",
        "print(\"After scaling:\", X_train_scaled.shape, X_test_scaled.shape)\n"
      ],
      "metadata": {
        "colab": {
          "base_uri": "https://localhost:8080/"
        },
        "id": "vT0U38Hx3B9i",
        "outputId": "ed65693e-db21-4c4a-c7db-b1ee517bda4e"
      },
      "execution_count": 7,
      "outputs": [
        {
          "output_type": "stream",
          "name": "stdout",
          "text": [
            "After scaling: (60000, 784) (10000, 784)\n"
          ]
        }
      ]
    },
    {
      "cell_type": "markdown",
      "source": [
        "### Train a Random Forest"
      ],
      "metadata": {
        "id": "zOI42_-_3nUF"
      }
    },
    {
      "cell_type": "code",
      "source": [
        "\n",
        "from sklearn.ensemble import RandomForestClassifier\n",
        "from time import time\n",
        "\n",
        "rf = RandomForestClassifier(\n",
        "        n_estimators=300,      # more trees → slightly better F1\n",
        "        n_jobs=-1,            # use all CPU cores\n",
        "        random_state=42\n",
        "     )\n",
        "\n",
        "t0 = time()\n",
        "rf.fit(X_train_scaled, y_train)\n",
        "print(f\"Training finished in {time()-t0:.1f} seconds\")\n"
      ],
      "metadata": {
        "colab": {
          "base_uri": "https://localhost:8080/"
        },
        "id": "kD3XMJ6K3Y34",
        "outputId": "501eeb7e-ce96-4a25-ec51-296bfaf2a51c"
      },
      "execution_count": 8,
      "outputs": [
        {
          "output_type": "stream",
          "name": "stdout",
          "text": [
            "Training finished in 123.4 seconds\n"
          ]
        }
      ]
    },
    {
      "cell_type": "markdown",
      "source": [
        "### Evaluate on training & test sets"
      ],
      "metadata": {
        "id": "rW5SvDg94vCz"
      }
    },
    {
      "cell_type": "code",
      "source": [
        "\n",
        "from sklearn.metrics import classification_report, f1_score, confusion_matrix\n",
        "import pandas as pd\n",
        "\n",
        "# --- Training metrics\n",
        "y_tr_pred = rf.predict(X_train_scaled)\n",
        "train_report = pd.DataFrame(classification_report(\n",
        "                               y_train, y_tr_pred, output_dict=True)).T\n",
        "train_f1 = f1_score(y_train, y_tr_pred, average='macro')\n",
        "\n",
        "# --- Test metrics\n",
        "y_te_pred = rf.predict(X_test_scaled)\n",
        "test_report = pd.DataFrame(classification_report(\n",
        "                              y_test, y_te_pred, output_dict=True)).T\n",
        "test_f1 = f1_score(y_test, y_te_pred, average='macro')\n",
        "\n",
        "print(f\"Macro F1  →  Train: {train_f1:.4f} | Test: {test_f1:.4f}\")\n",
        "train_report\n"
      ],
      "metadata": {
        "colab": {
          "base_uri": "https://localhost:8080/",
          "height": 475
        },
        "id": "5AmPrOYX3qOw",
        "outputId": "196a0c32-c8c5-41c2-cfa7-31e522e58452"
      },
      "execution_count": 9,
      "outputs": [
        {
          "output_type": "stream",
          "name": "stdout",
          "text": [
            "Macro F1  →  Train: 1.0000 | Test: 0.9713\n"
          ]
        },
        {
          "output_type": "execute_result",
          "data": {
            "text/plain": [
              "              precision  recall  f1-score  support\n",
              "0                   1.0     1.0       1.0   5923.0\n",
              "1                   1.0     1.0       1.0   6742.0\n",
              "2                   1.0     1.0       1.0   5958.0\n",
              "3                   1.0     1.0       1.0   6131.0\n",
              "4                   1.0     1.0       1.0   5842.0\n",
              "5                   1.0     1.0       1.0   5421.0\n",
              "6                   1.0     1.0       1.0   5918.0\n",
              "7                   1.0     1.0       1.0   6265.0\n",
              "8                   1.0     1.0       1.0   5851.0\n",
              "9                   1.0     1.0       1.0   5949.0\n",
              "accuracy            1.0     1.0       1.0      1.0\n",
              "macro avg           1.0     1.0       1.0  60000.0\n",
              "weighted avg        1.0     1.0       1.0  60000.0"
            ],
            "text/html": [
              "\n",
              "  <div id=\"df-eb29990a-3f20-405b-8a0e-3b439fe91179\" class=\"colab-df-container\">\n",
              "    <div>\n",
              "<style scoped>\n",
              "    .dataframe tbody tr th:only-of-type {\n",
              "        vertical-align: middle;\n",
              "    }\n",
              "\n",
              "    .dataframe tbody tr th {\n",
              "        vertical-align: top;\n",
              "    }\n",
              "\n",
              "    .dataframe thead th {\n",
              "        text-align: right;\n",
              "    }\n",
              "</style>\n",
              "<table border=\"1\" class=\"dataframe\">\n",
              "  <thead>\n",
              "    <tr style=\"text-align: right;\">\n",
              "      <th></th>\n",
              "      <th>precision</th>\n",
              "      <th>recall</th>\n",
              "      <th>f1-score</th>\n",
              "      <th>support</th>\n",
              "    </tr>\n",
              "  </thead>\n",
              "  <tbody>\n",
              "    <tr>\n",
              "      <th>0</th>\n",
              "      <td>1.0</td>\n",
              "      <td>1.0</td>\n",
              "      <td>1.0</td>\n",
              "      <td>5923.0</td>\n",
              "    </tr>\n",
              "    <tr>\n",
              "      <th>1</th>\n",
              "      <td>1.0</td>\n",
              "      <td>1.0</td>\n",
              "      <td>1.0</td>\n",
              "      <td>6742.0</td>\n",
              "    </tr>\n",
              "    <tr>\n",
              "      <th>2</th>\n",
              "      <td>1.0</td>\n",
              "      <td>1.0</td>\n",
              "      <td>1.0</td>\n",
              "      <td>5958.0</td>\n",
              "    </tr>\n",
              "    <tr>\n",
              "      <th>3</th>\n",
              "      <td>1.0</td>\n",
              "      <td>1.0</td>\n",
              "      <td>1.0</td>\n",
              "      <td>6131.0</td>\n",
              "    </tr>\n",
              "    <tr>\n",
              "      <th>4</th>\n",
              "      <td>1.0</td>\n",
              "      <td>1.0</td>\n",
              "      <td>1.0</td>\n",
              "      <td>5842.0</td>\n",
              "    </tr>\n",
              "    <tr>\n",
              "      <th>5</th>\n",
              "      <td>1.0</td>\n",
              "      <td>1.0</td>\n",
              "      <td>1.0</td>\n",
              "      <td>5421.0</td>\n",
              "    </tr>\n",
              "    <tr>\n",
              "      <th>6</th>\n",
              "      <td>1.0</td>\n",
              "      <td>1.0</td>\n",
              "      <td>1.0</td>\n",
              "      <td>5918.0</td>\n",
              "    </tr>\n",
              "    <tr>\n",
              "      <th>7</th>\n",
              "      <td>1.0</td>\n",
              "      <td>1.0</td>\n",
              "      <td>1.0</td>\n",
              "      <td>6265.0</td>\n",
              "    </tr>\n",
              "    <tr>\n",
              "      <th>8</th>\n",
              "      <td>1.0</td>\n",
              "      <td>1.0</td>\n",
              "      <td>1.0</td>\n",
              "      <td>5851.0</td>\n",
              "    </tr>\n",
              "    <tr>\n",
              "      <th>9</th>\n",
              "      <td>1.0</td>\n",
              "      <td>1.0</td>\n",
              "      <td>1.0</td>\n",
              "      <td>5949.0</td>\n",
              "    </tr>\n",
              "    <tr>\n",
              "      <th>accuracy</th>\n",
              "      <td>1.0</td>\n",
              "      <td>1.0</td>\n",
              "      <td>1.0</td>\n",
              "      <td>1.0</td>\n",
              "    </tr>\n",
              "    <tr>\n",
              "      <th>macro avg</th>\n",
              "      <td>1.0</td>\n",
              "      <td>1.0</td>\n",
              "      <td>1.0</td>\n",
              "      <td>60000.0</td>\n",
              "    </tr>\n",
              "    <tr>\n",
              "      <th>weighted avg</th>\n",
              "      <td>1.0</td>\n",
              "      <td>1.0</td>\n",
              "      <td>1.0</td>\n",
              "      <td>60000.0</td>\n",
              "    </tr>\n",
              "  </tbody>\n",
              "</table>\n",
              "</div>\n",
              "    <div class=\"colab-df-buttons\">\n",
              "\n",
              "  <div class=\"colab-df-container\">\n",
              "    <button class=\"colab-df-convert\" onclick=\"convertToInteractive('df-eb29990a-3f20-405b-8a0e-3b439fe91179')\"\n",
              "            title=\"Convert this dataframe to an interactive table.\"\n",
              "            style=\"display:none;\">\n",
              "\n",
              "  <svg xmlns=\"http://www.w3.org/2000/svg\" height=\"24px\" viewBox=\"0 -960 960 960\">\n",
              "    <path d=\"M120-120v-720h720v720H120Zm60-500h600v-160H180v160Zm220 220h160v-160H400v160Zm0 220h160v-160H400v160ZM180-400h160v-160H180v160Zm440 0h160v-160H620v160ZM180-180h160v-160H180v160Zm440 0h160v-160H620v160Z\"/>\n",
              "  </svg>\n",
              "    </button>\n",
              "\n",
              "  <style>\n",
              "    .colab-df-container {\n",
              "      display:flex;\n",
              "      gap: 12px;\n",
              "    }\n",
              "\n",
              "    .colab-df-convert {\n",
              "      background-color: #E8F0FE;\n",
              "      border: none;\n",
              "      border-radius: 50%;\n",
              "      cursor: pointer;\n",
              "      display: none;\n",
              "      fill: #1967D2;\n",
              "      height: 32px;\n",
              "      padding: 0 0 0 0;\n",
              "      width: 32px;\n",
              "    }\n",
              "\n",
              "    .colab-df-convert:hover {\n",
              "      background-color: #E2EBFA;\n",
              "      box-shadow: 0px 1px 2px rgba(60, 64, 67, 0.3), 0px 1px 3px 1px rgba(60, 64, 67, 0.15);\n",
              "      fill: #174EA6;\n",
              "    }\n",
              "\n",
              "    .colab-df-buttons div {\n",
              "      margin-bottom: 4px;\n",
              "    }\n",
              "\n",
              "    [theme=dark] .colab-df-convert {\n",
              "      background-color: #3B4455;\n",
              "      fill: #D2E3FC;\n",
              "    }\n",
              "\n",
              "    [theme=dark] .colab-df-convert:hover {\n",
              "      background-color: #434B5C;\n",
              "      box-shadow: 0px 1px 3px 1px rgba(0, 0, 0, 0.15);\n",
              "      filter: drop-shadow(0px 1px 2px rgba(0, 0, 0, 0.3));\n",
              "      fill: #FFFFFF;\n",
              "    }\n",
              "  </style>\n",
              "\n",
              "    <script>\n",
              "      const buttonEl =\n",
              "        document.querySelector('#df-eb29990a-3f20-405b-8a0e-3b439fe91179 button.colab-df-convert');\n",
              "      buttonEl.style.display =\n",
              "        google.colab.kernel.accessAllowed ? 'block' : 'none';\n",
              "\n",
              "      async function convertToInteractive(key) {\n",
              "        const element = document.querySelector('#df-eb29990a-3f20-405b-8a0e-3b439fe91179');\n",
              "        const dataTable =\n",
              "          await google.colab.kernel.invokeFunction('convertToInteractive',\n",
              "                                                    [key], {});\n",
              "        if (!dataTable) return;\n",
              "\n",
              "        const docLinkHtml = 'Like what you see? Visit the ' +\n",
              "          '<a target=\"_blank\" href=https://colab.research.google.com/notebooks/data_table.ipynb>data table notebook</a>'\n",
              "          + ' to learn more about interactive tables.';\n",
              "        element.innerHTML = '';\n",
              "        dataTable['output_type'] = 'display_data';\n",
              "        await google.colab.output.renderOutput(dataTable, element);\n",
              "        const docLink = document.createElement('div');\n",
              "        docLink.innerHTML = docLinkHtml;\n",
              "        element.appendChild(docLink);\n",
              "      }\n",
              "    </script>\n",
              "  </div>\n",
              "\n",
              "\n",
              "    <div id=\"df-6e970341-f710-4dcf-b5e1-c6e141de9009\">\n",
              "      <button class=\"colab-df-quickchart\" onclick=\"quickchart('df-6e970341-f710-4dcf-b5e1-c6e141de9009')\"\n",
              "                title=\"Suggest charts\"\n",
              "                style=\"display:none;\">\n",
              "\n",
              "<svg xmlns=\"http://www.w3.org/2000/svg\" height=\"24px\"viewBox=\"0 0 24 24\"\n",
              "     width=\"24px\">\n",
              "    <g>\n",
              "        <path d=\"M19 3H5c-1.1 0-2 .9-2 2v14c0 1.1.9 2 2 2h14c1.1 0 2-.9 2-2V5c0-1.1-.9-2-2-2zM9 17H7v-7h2v7zm4 0h-2V7h2v10zm4 0h-2v-4h2v4z\"/>\n",
              "    </g>\n",
              "</svg>\n",
              "      </button>\n",
              "\n",
              "<style>\n",
              "  .colab-df-quickchart {\n",
              "      --bg-color: #E8F0FE;\n",
              "      --fill-color: #1967D2;\n",
              "      --hover-bg-color: #E2EBFA;\n",
              "      --hover-fill-color: #174EA6;\n",
              "      --disabled-fill-color: #AAA;\n",
              "      --disabled-bg-color: #DDD;\n",
              "  }\n",
              "\n",
              "  [theme=dark] .colab-df-quickchart {\n",
              "      --bg-color: #3B4455;\n",
              "      --fill-color: #D2E3FC;\n",
              "      --hover-bg-color: #434B5C;\n",
              "      --hover-fill-color: #FFFFFF;\n",
              "      --disabled-bg-color: #3B4455;\n",
              "      --disabled-fill-color: #666;\n",
              "  }\n",
              "\n",
              "  .colab-df-quickchart {\n",
              "    background-color: var(--bg-color);\n",
              "    border: none;\n",
              "    border-radius: 50%;\n",
              "    cursor: pointer;\n",
              "    display: none;\n",
              "    fill: var(--fill-color);\n",
              "    height: 32px;\n",
              "    padding: 0;\n",
              "    width: 32px;\n",
              "  }\n",
              "\n",
              "  .colab-df-quickchart:hover {\n",
              "    background-color: var(--hover-bg-color);\n",
              "    box-shadow: 0 1px 2px rgba(60, 64, 67, 0.3), 0 1px 3px 1px rgba(60, 64, 67, 0.15);\n",
              "    fill: var(--button-hover-fill-color);\n",
              "  }\n",
              "\n",
              "  .colab-df-quickchart-complete:disabled,\n",
              "  .colab-df-quickchart-complete:disabled:hover {\n",
              "    background-color: var(--disabled-bg-color);\n",
              "    fill: var(--disabled-fill-color);\n",
              "    box-shadow: none;\n",
              "  }\n",
              "\n",
              "  .colab-df-spinner {\n",
              "    border: 2px solid var(--fill-color);\n",
              "    border-color: transparent;\n",
              "    border-bottom-color: var(--fill-color);\n",
              "    animation:\n",
              "      spin 1s steps(1) infinite;\n",
              "  }\n",
              "\n",
              "  @keyframes spin {\n",
              "    0% {\n",
              "      border-color: transparent;\n",
              "      border-bottom-color: var(--fill-color);\n",
              "      border-left-color: var(--fill-color);\n",
              "    }\n",
              "    20% {\n",
              "      border-color: transparent;\n",
              "      border-left-color: var(--fill-color);\n",
              "      border-top-color: var(--fill-color);\n",
              "    }\n",
              "    30% {\n",
              "      border-color: transparent;\n",
              "      border-left-color: var(--fill-color);\n",
              "      border-top-color: var(--fill-color);\n",
              "      border-right-color: var(--fill-color);\n",
              "    }\n",
              "    40% {\n",
              "      border-color: transparent;\n",
              "      border-right-color: var(--fill-color);\n",
              "      border-top-color: var(--fill-color);\n",
              "    }\n",
              "    60% {\n",
              "      border-color: transparent;\n",
              "      border-right-color: var(--fill-color);\n",
              "    }\n",
              "    80% {\n",
              "      border-color: transparent;\n",
              "      border-right-color: var(--fill-color);\n",
              "      border-bottom-color: var(--fill-color);\n",
              "    }\n",
              "    90% {\n",
              "      border-color: transparent;\n",
              "      border-bottom-color: var(--fill-color);\n",
              "    }\n",
              "  }\n",
              "</style>\n",
              "\n",
              "      <script>\n",
              "        async function quickchart(key) {\n",
              "          const quickchartButtonEl =\n",
              "            document.querySelector('#' + key + ' button');\n",
              "          quickchartButtonEl.disabled = true;  // To prevent multiple clicks.\n",
              "          quickchartButtonEl.classList.add('colab-df-spinner');\n",
              "          try {\n",
              "            const charts = await google.colab.kernel.invokeFunction(\n",
              "                'suggestCharts', [key], {});\n",
              "          } catch (error) {\n",
              "            console.error('Error during call to suggestCharts:', error);\n",
              "          }\n",
              "          quickchartButtonEl.classList.remove('colab-df-spinner');\n",
              "          quickchartButtonEl.classList.add('colab-df-quickchart-complete');\n",
              "        }\n",
              "        (() => {\n",
              "          let quickchartButtonEl =\n",
              "            document.querySelector('#df-6e970341-f710-4dcf-b5e1-c6e141de9009 button');\n",
              "          quickchartButtonEl.style.display =\n",
              "            google.colab.kernel.accessAllowed ? 'block' : 'none';\n",
              "        })();\n",
              "      </script>\n",
              "    </div>\n",
              "\n",
              "  <div id=\"id_3d0052f0-5bfa-46b8-9da4-3fd40e6eb70d\">\n",
              "    <style>\n",
              "      .colab-df-generate {\n",
              "        background-color: #E8F0FE;\n",
              "        border: none;\n",
              "        border-radius: 50%;\n",
              "        cursor: pointer;\n",
              "        display: none;\n",
              "        fill: #1967D2;\n",
              "        height: 32px;\n",
              "        padding: 0 0 0 0;\n",
              "        width: 32px;\n",
              "      }\n",
              "\n",
              "      .colab-df-generate:hover {\n",
              "        background-color: #E2EBFA;\n",
              "        box-shadow: 0px 1px 2px rgba(60, 64, 67, 0.3), 0px 1px 3px 1px rgba(60, 64, 67, 0.15);\n",
              "        fill: #174EA6;\n",
              "      }\n",
              "\n",
              "      [theme=dark] .colab-df-generate {\n",
              "        background-color: #3B4455;\n",
              "        fill: #D2E3FC;\n",
              "      }\n",
              "\n",
              "      [theme=dark] .colab-df-generate:hover {\n",
              "        background-color: #434B5C;\n",
              "        box-shadow: 0px 1px 3px 1px rgba(0, 0, 0, 0.15);\n",
              "        filter: drop-shadow(0px 1px 2px rgba(0, 0, 0, 0.3));\n",
              "        fill: #FFFFFF;\n",
              "      }\n",
              "    </style>\n",
              "    <button class=\"colab-df-generate\" onclick=\"generateWithVariable('train_report')\"\n",
              "            title=\"Generate code using this dataframe.\"\n",
              "            style=\"display:none;\">\n",
              "\n",
              "  <svg xmlns=\"http://www.w3.org/2000/svg\" height=\"24px\"viewBox=\"0 0 24 24\"\n",
              "       width=\"24px\">\n",
              "    <path d=\"M7,19H8.4L18.45,9,17,7.55,7,17.6ZM5,21V16.75L18.45,3.32a2,2,0,0,1,2.83,0l1.4,1.43a1.91,1.91,0,0,1,.58,1.4,1.91,1.91,0,0,1-.58,1.4L9.25,21ZM18.45,9,17,7.55Zm-12,3A5.31,5.31,0,0,0,4.9,8.1,5.31,5.31,0,0,0,1,6.5,5.31,5.31,0,0,0,4.9,4.9,5.31,5.31,0,0,0,6.5,1,5.31,5.31,0,0,0,8.1,4.9,5.31,5.31,0,0,0,12,6.5,5.46,5.46,0,0,0,6.5,12Z\"/>\n",
              "  </svg>\n",
              "    </button>\n",
              "    <script>\n",
              "      (() => {\n",
              "      const buttonEl =\n",
              "        document.querySelector('#id_3d0052f0-5bfa-46b8-9da4-3fd40e6eb70d button.colab-df-generate');\n",
              "      buttonEl.style.display =\n",
              "        google.colab.kernel.accessAllowed ? 'block' : 'none';\n",
              "\n",
              "      buttonEl.onclick = () => {\n",
              "        google.colab.notebook.generateWithVariable('train_report');\n",
              "      }\n",
              "      })();\n",
              "    </script>\n",
              "  </div>\n",
              "\n",
              "    </div>\n",
              "  </div>\n"
            ],
            "application/vnd.google.colaboratory.intrinsic+json": {
              "type": "dataframe",
              "variable_name": "train_report",
              "summary": "{\n  \"name\": \"train_report\",\n  \"rows\": 13,\n  \"fields\": [\n    {\n      \"column\": \"precision\",\n      \"properties\": {\n        \"dtype\": \"number\",\n        \"std\": 0.0,\n        \"min\": 1.0,\n        \"max\": 1.0,\n        \"num_unique_values\": 1,\n        \"samples\": [\n          1.0\n        ],\n        \"semantic_type\": \"\",\n        \"description\": \"\"\n      }\n    },\n    {\n      \"column\": \"recall\",\n      \"properties\": {\n        \"dtype\": \"number\",\n        \"std\": 0.0,\n        \"min\": 1.0,\n        \"max\": 1.0,\n        \"num_unique_values\": 1,\n        \"samples\": [\n          1.0\n        ],\n        \"semantic_type\": \"\",\n        \"description\": \"\"\n      }\n    },\n    {\n      \"column\": \"f1-score\",\n      \"properties\": {\n        \"dtype\": \"number\",\n        \"std\": 0.0,\n        \"min\": 1.0,\n        \"max\": 1.0,\n        \"num_unique_values\": 1,\n        \"samples\": [\n          1.0\n        ],\n        \"semantic_type\": \"\",\n        \"description\": \"\"\n      }\n    },\n    {\n      \"column\": \"support\",\n      \"properties\": {\n        \"dtype\": \"number\",\n        \"std\": 20552.17342583604,\n        \"min\": 1.0,\n        \"max\": 60000.0,\n        \"num_unique_values\": 12,\n        \"samples\": [\n          1.0\n        ],\n        \"semantic_type\": \"\",\n        \"description\": \"\"\n      }\n    }\n  ]\n}"
            }
          },
          "metadata": {},
          "execution_count": 9
        }
      ]
    },
    {
      "cell_type": "markdown",
      "source": [
        "### Plot confusion matrices"
      ],
      "metadata": {
        "id": "GhN43dCr43OD"
      }
    },
    {
      "cell_type": "code",
      "source": [
        "import matplotlib.pyplot as plt\n",
        "import seaborn as sns\n",
        "\n",
        "def plot_cm(cm, title):\n",
        "    plt.figure(figsize=(6,5))\n",
        "    sns.heatmap(cm, annot=True, fmt='d', cmap='Blues', cbar=False)\n",
        "    plt.title(title); plt.ylabel('True'); plt.xlabel('Predicted'); plt.tight_layout()\n",
        "\n",
        "plot_cm(confusion_matrix(y_train, y_tr_pred), \"Training Confusion Matrix\")\n",
        "\n",
        "plot_cm(confusion_matrix(y_test,  y_te_pred), \"Test Confusion Matrix\")"
      ],
      "metadata": {
        "colab": {
          "base_uri": "https://localhost:8080/",
          "height": 997
        },
        "id": "8b32l92O4tOa",
        "outputId": "666d6e95-9e29-4ac1-d923-b864a9496024"
      },
      "execution_count": 10,
      "outputs": [
        {
          "output_type": "display_data",
          "data": {
            "text/plain": [
              "<Figure size 600x500 with 1 Axes>"
            ],
            "image/png": "[encoded data removed]"
          },
          "metadata": {}
        },
        {
          "output_type": "display_data",
          "data": {
            "text/plain": [
              "<Figure size 600x500 with 1 Axes>"
            ],
            "image/png": "[encoded data removed]"
          },
          "metadata": {}
        }
      ]
    },
    {
      "cell_type": "code",
      "source": [
        "# Cell 8 – Overall TP / FP / FN / TN and aggregated metrics  (no per-digit list)\n",
        "\n",
        "import numpy as np, pandas as pd\n",
        "from sklearn.metrics import confusion_matrix, precision_score, recall_score, f1_score, accuracy_score\n",
        "\n",
        "# Compute confusion-matrix without specifying labels → uses all present classes\n",
        "cm = confusion_matrix(y_test, y_te_pred)\n",
        "total_samples = cm.sum()\n",
        "\n",
        "# Overall counts (micro-averaged)\n",
        "TP = np.trace(cm)                           # sum of diagonal\n",
        "FP = cm.sum(axis=0).sum() - TP              # all column sums minus TP\n",
        "FN = cm.sum(axis=1).sum() - TP              # all row sums minus TP\n",
        "TN = total_samples - (TP + FP + FN)\n",
        "\n",
        "# Sanity check\n",
        "assert TP + FP + FN + TN == total_samples\n",
        "\n",
        "# Build results table\n",
        "overall_table = pd.DataFrame({\n",
        "        \"Metric\": [\"True Positive\", \"False Positive\", \"False Negative\", \"True Negative\"],\n",
        "        \"Count\" : [TP, FP, FN, TN]\n",
        "})\n",
        "\n",
        "# Overall scores (micro = same as accuracy for multi-class)\n",
        "accuracy  = accuracy_score(y_test, y_te_pred)\n",
        "precision = precision_score(y_test, y_te_pred, average='micro')\n",
        "recall    = recall_score(y_test, y_te_pred, average='micro')\n",
        "f1        = f1_score(y_test, y_te_pred, average='micro')\n",
        "\n",
        "display(overall_table.style.set_caption(\"Aggregate Confusion-Matrix Counts\"))\n",
        "print(f\"\\n⚙️  Overall metrics  →  \"\n",
        "      f\"Accuracy: {accuracy:.4f}  |  Precision: {precision:.4f}  |  \"\n",
        "      f\"Recall: {recall:.4f}  |  F1: {f1:.4f}\")\n"
      ],
      "metadata": {
        "colab": {
          "base_uri": "https://localhost:8080/",
          "height": 246
        },
        "id": "PsdQbPOq51xU",
        "outputId": "235d89c0-a74c-47ec-8ce0-02c657608678"
      },
      "execution_count": 11,
      "outputs": [
        {
          "output_type": "display_data",
          "data": {
            "text/plain": [
              "<pandas.io.formats.style.Styler at 0x7de503734c90>"
            ],
            "text/html": [
              "<style type=\"text/css\">\n",
              "</style>\n",
              "<table id=\"T_d3c5c\" class=\"dataframe\">\n",
              "  <caption>Aggregate Confusion-Matrix Counts</caption>\n",
              "  <thead>\n",
              "    <tr>\n",
              "      <th class=\"blank level0\" >&nbsp;</th>\n",
              "      <th id=\"T_d3c5c_level0_col0\" class=\"col_heading level0 col0\" >Metric</th>\n",
              "      <th id=\"T_d3c5c_level0_col1\" class=\"col_heading level0 col1\" >Count</th>\n",
              "    </tr>\n",
              "  </thead>\n",
              "  <tbody>\n",
              "    <tr>\n",
              "      <th id=\"T_d3c5c_level0_row0\" class=\"row_heading level0 row0\" >0</th>\n",
              "      <td id=\"T_d3c5c_row0_col0\" class=\"data row0 col0\" >True Positive</td>\n",
              "      <td id=\"T_d3c5c_row0_col1\" class=\"data row0 col1\" >9715</td>\n",
              "    </tr>\n",
              "    <tr>\n",
              "      <th id=\"T_d3c5c_level0_row1\" class=\"row_heading level0 row1\" >1</th>\n",
              "      <td id=\"T_d3c5c_row1_col0\" class=\"data row1 col0\" >False Positive</td>\n",
              "      <td id=\"T_d3c5c_row1_col1\" class=\"data row1 col1\" >285</td>\n",
              "    </tr>\n",
              "    <tr>\n",
              "      <th id=\"T_d3c5c_level0_row2\" class=\"row_heading level0 row2\" >2</th>\n",
              "      <td id=\"T_d3c5c_row2_col0\" class=\"data row2 col0\" >False Negative</td>\n",
              "      <td id=\"T_d3c5c_row2_col1\" class=\"data row2 col1\" >285</td>\n",
              "    </tr>\n",
              "    <tr>\n",
              "      <th id=\"T_d3c5c_level0_row3\" class=\"row_heading level0 row3\" >3</th>\n",
              "      <td id=\"T_d3c5c_row3_col0\" class=\"data row3 col0\" >True Negative</td>\n",
              "      <td id=\"T_d3c5c_row3_col1\" class=\"data row3 col1\" >-285</td>\n",
              "    </tr>\n",
              "  </tbody>\n",
              "</table>\n"
            ]
          },
          "metadata": {}
        },
        {
          "output_type": "stream",
          "name": "stdout",
          "text": [
            "\n",
            "⚙️  Overall metrics  →  Accuracy: 0.9715  |  Precision: 0.9715  |  Recall: 0.9715  |  F1: 0.9715\n"
          ]
        }
      ]
    },
    {
      "cell_type": "code",
      "source": [
        "from sklearn.metrics import  classification_report\n",
        "\n",
        "report = classification_report(y_test, y_te_pred, output_dict=True)\n",
        "f1_scores = [report[str(i)]['f1-score'] for i in range(10)]\n",
        "\n",
        "plt.figure(figsize=(7,4))\n",
        "plt.bar(range(10), f1_scores)\n",
        "plt.xticks(range(10))\n",
        "plt.ylim(0.9, 1.0)\n",
        "plt.ylabel(\"F1-score\")\n",
        "plt.xlabel(\"Digit class\")\n",
        "plt.title(\"Per-class F1-Scores (Random Forest)\")\n",
        "plt.tight_layout()\n",
        "plt.show()"
      ],
      "metadata": {
        "colab": {
          "base_uri": "https://localhost:8080/",
          "height": 407
        },
        "id": "akGALd896FSw",
        "outputId": "e77f8f57-b458-412f-a183-d220f1fcfb44"
      },
      "execution_count": 12,
      "outputs": [
        {
          "output_type": "display_data",
          "data": {
            "text/plain": [
              "<Figure size 700x400 with 1 Axes>"
            ],
            "image/png": "[encoded data removed]"
          },
          "metadata": {}
        }
      ]
    },
    {
      "cell_type": "code",
      "source": [
        "cm_no_diag = cm.copy()\n",
        "np.fill_diagonal(cm_no_diag, 0)\n",
        "\n",
        "# find indices of five largest off-diagonal counts\n",
        "flat_idx = np.argsort(cm_no_diag, axis=None)[-5:]\n",
        "rows, cols = np.unravel_index(flat_idx, cm_no_diag.shape)\n",
        "mis_pairs = [(r, c, cm_no_diag[r, c]) for r, c in zip(rows, cols)]\n",
        "mis_pairs.sort(key=lambda x: x[2], reverse=True)   # descending\n",
        "\n",
        "print(\"\\nTop-5 misclassifications:\")\n",
        "for r, c, n in mis_pairs:\n",
        "    print(f\"Digit {r} → {c}: {n} samples\")"
      ],
      "metadata": {
        "colab": {
          "base_uri": "https://localhost:8080/"
        },
        "id": "DkTPsUoYgI1y",
        "outputId": "b0757165-7f42-4a27-f024-7c6e649863fb"
      },
      "execution_count": 13,
      "outputs": [
        {
          "output_type": "stream",
          "name": "stdout",
          "text": [
            "\n",
            "Top-5 misclassifications:\n",
            "Digit 7 → 2: 18 samples\n",
            "Digit 4 → 9: 15 samples\n",
            "Digit 9 → 4: 11 samples\n",
            "Digit 9 → 3: 10 samples\n",
            "Digit 7 → 9: 9 samples\n"
          ]
        }
      ]
    },
    {
      "cell_type": "code",
      "source": [
        "if mis_pairs[0][2] > 0:          # only plot if there are mistakes\n",
        "    labels = [f\"{r}→{c}\" for r, c, _ in mis_pairs]\n",
        "    counts = [n for _, _, n in mis_pairs]\n",
        "\n",
        "    plt.figure(figsize=(6,3))\n",
        "    plt.bar(labels, counts)\n",
        "    plt.ylabel(\"Count\")\n",
        "    plt.title(\"Most Frequent Misclassifications\")\n",
        "    plt.tight_layout()\n",
        "    plt.show()"
      ],
      "metadata": {
        "colab": {
          "base_uri": "https://localhost:8080/",
          "height": 307
        },
        "id": "PCPAw9P8hZsb",
        "outputId": "a30e88b7-9792-461a-c321-f48e70732311"
      },
      "execution_count": 16,
      "outputs": [
        {
          "output_type": "display_data",
          "data": {
            "text/plain": [
              "<Figure size 600x300 with 1 Axes>"
            ],
            "image/png": "[encoded data removed]"
          },
          "metadata": {}
        }
      ]
    },
    {
      "cell_type": "code",
      "source": [],
      "metadata": {
        "id": "EoDq6vAKhi8u"
      },
      "execution_count": null,
      "outputs": []
    }
  ]
}
